{
 "cells": [
  {
   "cell_type": "markdown",
   "id": "c4818b49-29f6-4732-b0bf-b9a6d3992462",
   "metadata": {},
   "source": [
    "### Transcript ingestion and standardisation\n",
    "\n",
    "Initial experimentation"
   ]
  },
  {
   "cell_type": "markdown",
   "id": "643b1db9-89bb-46c9-9bb2-dbaa8fe11a3f",
   "metadata": {},
   "source": [
    "NB: 3 different document formats present.\n",
    "\n",
    " 1 file (Peter Dunstan.txt) is a .txt. It opens with boilerplate (which seems to be the same as the bulk of the PDF documents), then has timestamped segments (similar to automated Zoom transcripts and the like, though the accuracy suggests it's been done or cleaned up by a human).\n",
    " \n",
    " The other files are all in PDF format.\n",
    " \n",
    " 1 (Frank Wilson Transcript Master.pdf) has professional-looking formatting, with:\n",
    "   - Header (Legasee logo) and footer (copyright info)\n",
    "   - Each section identifying the speaker (Frank or the interviewer)\n",
    "   - No general timestamps, however:\n",
    "   - Some sections marked as \"unintelligible\", with corresponding timeststamps\n",
    "   \n",
    " 4 other files are consistent:\n",
    "   - Front page is copyright info etc.\n",
    "   - Metadata (interviewee name and regiment, date and name of transcriber)\n",
    "   - Tables (from MS Word) with time stamps, text (bold indicating interviewer speaking), highlighted sections marking film breaks\n",
    "   - Footers (Legasee information)"
   ]
  },
  {
   "cell_type": "code",
   "execution_count": 5,
   "id": "3db73bea-0688-4845-b3fa-c039b83c4549",
   "metadata": {},
   "outputs": [],
   "source": [
    "# PyMuPDF - https://pypi.org/project/PyMuPDF/\n",
    "import fitz\n",
    "\n",
    "# https://www.crummy.com/software/BeautifulSoup/bs4/doc/\n",
    "from bs4 import BeautifulSoup, Tag\n",
    "import bs4\n",
    "\n",
    "from IPython.core.display import display, HTML\n",
    "import re\n",
    "from datetime import datetime, timedelta\n",
    "import pandas as pd\n",
    "\n",
    "from os import path, makedirs"
   ]
  },
  {
   "cell_type": "code",
   "execution_count": 3,
   "id": "c02037b2-76f1-4134-95e3-729d77f00280",
   "metadata": {},
   "outputs": [],
   "source": []
  },
  {
   "cell_type": "markdown",
   "id": "d6b0ebfe",
   "metadata": {},
   "source": [
    "Check for existence of input and output folders (and interrupt / create if necessary)"
   ]
  },
  {
   "cell_type": "code",
   "execution_count": 2,
   "id": "34132724",
   "metadata": {},
   "outputs": [],
   "source": [
    "assert path.exists('./raw')"
   ]
  },
  {
   "cell_type": "code",
   "execution_count": 6,
   "id": "3eaf9101",
   "metadata": {},
   "outputs": [
    {
     "name": "stdout",
     "output_type": "stream",
     "text": [
      "Output folder ./ingested CREATED.\n"
     ]
    }
   ],
   "source": [
    "if path.exists('./ingested'):\n",
    "    print(\"Output folder ./ingested found.\")\n",
    "    \n",
    "else:\n",
    "    makedirs('./ingested')\n",
    "    print (\"Output folder ./ingested CREATED.\")"
   ]
  },
  {
   "cell_type": "code",
   "execution_count": null,
   "id": "347d8a46",
   "metadata": {},
   "outputs": [],
   "source": []
  },
  {
   "cell_type": "code",
   "execution_count": 42,
   "id": "eb16116b-0a26-4a60-8b1a-8b3cf405e1bb",
   "metadata": {},
   "outputs": [],
   "source": [
    "patt_wis = re.compile(r\"what is said\",re.I)\n",
    "patt_ts  = re.compile(r\"\\d{1,2}:\\d{2}:\\d{2}\")\n",
    "patt_sof = re.compile(r\"(start|end) of film(s)?(\\s+\\d+)?\",re.I)\n",
    "\n",
    "# Sometimes get timestamp and text in a single span - need to split them\n",
    "patt_joined  = re.compile(r\"(?P<stamp>\\d{1,2}:\\d{2}:\\d{2})(?P<after_stamp>.+)\")\n",
    "\n",
    "\n",
    "\n",
    "def page_to_ts(docpage):\n",
    "    ''' Extract timestamp, speaker identity and text from PDF transcript from Legasee archive.\n",
    "    Assumptions:\n",
    "        - Input is a page from a PDF file, ingested with fitz (PyMuPDF)\n",
    "        - Format is the one most frequently given to us:\n",
    "            - Main content is in a table, with (repeating) headers \"Time Code\" and \"What is Said\"\n",
    "            - Header and footer, if present, may be ignored, along with any preamble (e.g. metadata about date of transcription)\n",
    "                - Header and footer end up appearing before the content in the recovered HTML document\n",
    "            - Bold text indicates interviewer questions, non-bold interviewee. \"Start of Film X\" treated as distinct speaker.\n",
    "                - No sections of bold appear in the interviewee's text\n",
    "            \n",
    "            - Line breaks in recovered text are not retained\n",
    "            - Need to do something about the markers for unintelligible content within the text - they could also let us subdivide to get more stamps\n",
    "    '''\n",
    "    \n",
    "    ts_content = []\n",
    "    _started = 0\n",
    "    _last_time = None\n",
    "    _last_speaker = ''\n",
    "    \n",
    "    _block = [None, '', []]\n",
    "\n",
    "    \n",
    "    # Utility function for block handling. When a new block is started, append current block if it has any content before initiating a new one\n",
    "    def new_block(time,speaker=''):\n",
    "        \n",
    "        nonlocal _block, ts_content\n",
    "        \n",
    "        if len(_block[2]):\n",
    "            # Concat to string, replace line breaks with spaces, compress whitespace\n",
    "            _block[2] = re.sub(\"\\s{2,}\",\" \",re.sub(\"\\n\",\" \",\" \".join(_block[2])))\n",
    "            ts_content.append(tuple(_block))\n",
    "\n",
    "        _block = [time,speaker,[]]\n",
    "        #print(\"New block created\")\n",
    "\n",
    "    \n",
    "    def process_para(p,speaker_type):\n",
    "        #print(\" Processing paragraph\")\n",
    "        \n",
    "        nonlocal _block, _last_time, _last_speaker, ts_content, _started\n",
    "        \n",
    "        # Process strings and tag elements differently\n",
    "        if type(p) == bs4.element.Tag:\n",
    "            pt  = p.text\n",
    "            pct = p.text.strip(' \\t\\n')\n",
    "            \n",
    "        elif type(p) == str:\n",
    "            pt = p\n",
    "            pct = p.strip(' \\t\\n')\n",
    "        \n",
    "        \n",
    "        # After finding the start of the content, we want to tag speaker and timestamp as well as content, as a triple\n",
    "        if _started == 1:\n",
    "            \n",
    "            # If speaker type has changed, start a new block\n",
    "            if speaker_type != _last_speaker:\n",
    "                _last_speaker = speaker_type\n",
    "                new_block(_last_time,speaker_type)\n",
    "\n",
    "            # Sometimes get timestamp and text in a single span - need to split them\n",
    "            join = re.fullmatch(patt_joined,pct)\n",
    "            if join:\n",
    "                #print(\"  Joined section\")\n",
    "                process_para(join.group('stamp'),speaker_type)\n",
    "                process_para(join.group('after_stamp'),speaker_type)\n",
    "\n",
    "            \n",
    "            # \"Start of film X\" or \"end of film(s)\" triggers specific treatment - start a new block, unless current block only has a timestamp\n",
    "            elif re.fullmatch(patt_sof,pct):\n",
    "                if len(_block[2]):\n",
    "                    new_block(None,speaker='New Film')\n",
    "                else:\n",
    "                    _block[1] = 'New Film'\n",
    "                    \n",
    "                _block[2] = ['New Film']\n",
    "                new_block(_last_time)\n",
    "                \n",
    "            \n",
    "            # Paragraph is a timestamp - new block\n",
    "            elif re.fullmatch(patt_ts,pct):\n",
    "                t = datetime.strptime(pct,\"%H:%M:%S\")\n",
    "                delta = timedelta(hours=t.hour, minutes=t.minute, seconds=t.second)\n",
    "                # Update most recent timestamp in case needed elsewhere\n",
    "                _last_time = delta\n",
    "                \n",
    "                new_block(delta,speaker_type)      \n",
    "                    \n",
    "                \n",
    "            # Otherwise - general text\n",
    "            else:\n",
    "                _block[2].append(pt)\n",
    "                \n",
    "            \n",
    "        # Until first \"What is Said\" encountered (and including that para), don't care about the text\n",
    "        if re.fullmatch(patt_wis,pct):\n",
    "            _started = 1\n",
    "            \n",
    "            \n",
    "    \n",
    "    raw_html = page.get_text(\"html\")\n",
    "    page_bs = BeautifulSoup(raw_html)\n",
    "    \n",
    "    # Get paragraphs from content, as a list\n",
    "    paras = page_bs.find_all(\"p\")\n",
    "    \n",
    "    for p in paras:\n",
    "\n",
    "        # If paragraph contains bold sections, need to process those as subunits\n",
    "        if p.find(\"b\"):\n",
    "            for b in p.find_all(\"b\"):\n",
    "                process_para(b,'Interviewer')\n",
    "        \n",
    "            # End block after bolds, as some files do not include new timestamps for the user\n",
    "            #new_block(_last_time,'Interviewee')\n",
    "        else:\n",
    "            process_para(p,'Interviewee')\n",
    "            \n",
    "    # Append final block if it has any content\n",
    "    new_block(None)\n",
    "        \n",
    "    return ts_content"
   ]
  },
  {
   "cell_type": "code",
   "execution_count": 44,
   "id": "e07dd1e9-b82c-4425-ac4d-d498feb61938",
   "metadata": {},
   "outputs": [],
   "source": []
  },
  {
   "cell_type": "markdown",
   "id": "081573ac-926d-4a30-b9a7-054f17d33045",
   "metadata": {},
   "source": [
    "Ingest 4 consistent PDF files"
   ]
  },
  {
   "cell_type": "code",
   "execution_count": 45,
   "id": "b5d12819-9096-4bd5-bfeb-cd2d80fb91c2",
   "metadata": {},
   "outputs": [],
   "source": [
    "pdf_standard = ['Baden Singleton', 'Harriet Wright', 'John Roche', 'Mervyn Salter']\n",
    "\n",
    "for name in pdf_standard:\n",
    "    \n",
    "    doc = fitz.open('./raw/'+name+'.pdf')\n",
    "    \n",
    "    transcripts = []\n",
    "\n",
    "    # Omit first page as it's copyright material / frontispiece\n",
    "    for page in doc.pages(1):\n",
    "        transcripts.extend(page_to_ts(page))\n",
    "        \n",
    "    df = pd.DataFrame(transcripts,columns = [\"Timestamp\", \"Speaker\", \"Transcript\"])\n",
    "    \n",
    "    df.to_csv('./ingested/'+name+'.tsv',\n",
    "              sep = '\\t'\n",
    "             )"
   ]
  },
  {
   "cell_type": "code",
   "execution_count": null,
   "id": "3418730b-86ef-4e7e-818f-6b0b51ba1d23",
   "metadata": {},
   "outputs": [],
   "source": []
  },
  {
   "cell_type": "code",
   "execution_count": 146,
   "id": "99051eb5",
   "metadata": {},
   "outputs": [],
   "source": [
    "patt_name = re.compile(r\"(?P<speaker>[^\\d\\W]+(\\s+[^\\d\\W]+)*)\\s?:(?P<content>.*)\")\n",
    "patt_foot = re.compile(r\"File name:\")\n",
    "patt_eoa  = re.compile(r\"\\[(?P<stamp>\\d{1,2}:\\d{2}:\\d{2})\\]\\s*\\[END OF AUDIO\\]\",re.I)\n",
    "\n",
    "def fancy_page_to_ts(page):\n",
    "    \n",
    "    ts_content = []\n",
    "    _started = 1\n",
    "    \n",
    "    _last_speaker = ''\n",
    "    \n",
    "    _block = [None, '(cont.)', []]\n",
    "    \n",
    "    \n",
    "    # Utility function for block handling. When a new block is started, append current block if it has any content before initiating a new one\n",
    "    def new_block(time,speaker=''):\n",
    "        \n",
    "        nonlocal _block, ts_content\n",
    "        \n",
    "        if len(_block[2]):\n",
    "            # Concat to string, replace line breaks with spaces, compress whitespace\n",
    "            _block[2] = re.sub(\"\\s{2,}\",\" \",re.sub(\"\\n\",\" \",\" \".join(_block[2])))\n",
    "            ts_content.append(tuple(_block))\n",
    "\n",
    "        _block = [time,speaker,[]]\n",
    "        #print(\"New block created\")\n",
    "\n",
    "        \n",
    "    def process_para(p):\n",
    "        nonlocal _block, _last_speaker, ts_content, _started\n",
    "        \n",
    "        if _started:\n",
    "            \n",
    "            pt = p.text\n",
    "            \n",
    "            # Footer appears later in page content - need to reset _started when we encounter \"File name:\"\n",
    "            # Note that this matches the speaker name pattern (though won't appear in a bold tag)\n",
    "            if patt_foot.match(pt):\n",
    "                _started = 0\n",
    "                \n",
    "            # End of audio marker\n",
    "            elif patt_eoa.match(pt):\n",
    "                \n",
    "                t = datetime.strptime(patt_eoa.match(pt).group('stamp'),\"%H:%M:%S\")\n",
    "                delta = timedelta(hours=t.hour, minutes=t.minute, seconds=t.second)\n",
    "                \n",
    "                new_block(delta,speaker='End of audio')\n",
    "                _block[2] = ['End of audio']\n",
    "            \n",
    "            else:\n",
    "                # If the first bold item looks like \"Name: \" then new block, set speaker\n",
    "                if p.find(\"b\"):\n",
    "                    btext = p.find(\"b\").text.strip(' \\t\\n')\n",
    "\n",
    "                    nmatch = patt_name.match(btext)\n",
    "                    if nmatch:\n",
    "                        _last_speaker = nmatch.group('speaker')\n",
    "                        new_block(None,speaker=nmatch.group('speaker'))\n",
    "\n",
    "\n",
    "                # If pt begins with current speaker, remove that from the beginning\n",
    "                if pt.startswith(_last_speaker+':'):\n",
    "                    pt = pt[len(_last_speaker)+1:]\n",
    "\n",
    "                _block[2].append(pt)\n",
    "                      \n",
    "            \n",
    "    raw_html = page.get_text(\"html\")\n",
    "    page_bs = BeautifulSoup(raw_html)\n",
    "    \n",
    "    # Get paragraphs from content, as a list\n",
    "    paras = page_bs.find_all(\"p\")\n",
    "    \n",
    "    for p in paras:\n",
    "        process_para(p)\n",
    "            \n",
    "    # Append final block if it has any content\n",
    "    new_block(None)\n",
    "        \n",
    "    return ts_content"
   ]
  },
  {
   "cell_type": "markdown",
   "id": "c042680a",
   "metadata": {},
   "source": [
    "Ingest one fancy file"
   ]
  },
  {
   "cell_type": "code",
   "execution_count": null,
   "id": "b7c2e98e",
   "metadata": {},
   "outputs": [],
   "source": []
  },
  {
   "cell_type": "code",
   "execution_count": 147,
   "id": "566d27d8",
   "metadata": {},
   "outputs": [],
   "source": [
    "pdf_fancy = ['Frank Wilson']\n",
    "\n",
    "for name in pdf_fancy:\n",
    "    \n",
    "    doc = fitz.open('./raw/'+name+' Transcript Master.pdf')\n",
    "    \n",
    "    transcripts = []\n",
    "\n",
    "    for page in doc.pages():\n",
    "        transcripts.extend(fancy_page_to_ts(page))\n",
    "        \n",
    "    df = pd.DataFrame(transcripts,columns = [\"Timestamp\", \"Speaker\", \"Transcript\"])\n",
    "    \n",
    "    df.to_csv('./ingested/'+name+'.tsv',\n",
    "              sep = '\\t'\n",
    "             )"
   ]
  },
  {
   "cell_type": "code",
   "execution_count": null,
   "id": "70839aad",
   "metadata": {},
   "outputs": [],
   "source": []
  },
  {
   "cell_type": "markdown",
   "id": "ed47734c",
   "metadata": {},
   "source": [
    "Text file.\n",
    "\n",
    "Lines may be:\n",
    " - Boilerplate (everything before the first \"Start of film\")\n",
    " - ** Start of Film X\n",
    " - Timestamp\n",
    " - Content\n",
    " - Blank lines\n",
    " \n",
    "No speaker indicators; approximately alternates, but not consistently"
   ]
  },
  {
   "cell_type": "code",
   "execution_count": 153,
   "id": "71c61bf7",
   "metadata": {},
   "outputs": [],
   "source": [
    "patt_ts  = re.compile(r\"\\d{1,2}:\\d{2}:\\d{2}\")\n",
    "patt_sof = re.compile(r\"[*]+ start of film \\d+\",re.I)\n",
    "\n",
    "def text_to_ts(filename):\n",
    "    \n",
    "    # Utility function for block handling. When a new block is started, append current block if it has any content before initiating a new one\n",
    "    def new_block(time,speaker=''):\n",
    "        \n",
    "        nonlocal _block, ts_content\n",
    "        \n",
    "        if len(_block[2]):\n",
    "            # Concat to string, replace line breaks with spaces, compress whitespace\n",
    "            _block[2] = re.sub(\"\\s{2,}\",\" \",re.sub(\"\\n\",\" \",\" \".join(_block[2])))\n",
    "            ts_content.append(tuple(_block))\n",
    "\n",
    "        _block = [time,speaker,[]]\n",
    "        #print(\"New block created\")\n",
    "        \n",
    "    \n",
    "    with open('./raw/'+filename+'.txt') as ofile:\n",
    "        \n",
    "        _i = 0\n",
    "        _started = 0\n",
    "        \n",
    "        ts_content = []\n",
    "        _block = [None, '', []]\n",
    "        \n",
    "        \n",
    "        for line in ofile.readlines():\n",
    "            \n",
    "            line = line.strip(' \\t\\n')\n",
    "            \n",
    "            # Start of film X\n",
    "            if patt_sof.fullmatch(line):\n",
    "                _started = 1\n",
    "                \n",
    "                new_block(None,speaker='New Film')\n",
    "                _block[2] = ['New Film']\n",
    "            \n",
    "            if _started:\n",
    "                \n",
    "                # Timestamp\n",
    "                if patt_ts.fullmatch(line):\n",
    "                    \n",
    "                    t = datetime.strptime(line,\"%H:%M:%S\")\n",
    "                    delta = timedelta(hours=t.hour, minutes=t.minute, seconds=t.second)\n",
    "                \n",
    "                    new_block(delta,speaker='')\n",
    "                \n",
    "            \n",
    "                else:\n",
    "                    _block[2].append(line)\n",
    "                \n",
    "\n",
    "        new_block(None)\n",
    "        \n",
    "        return ts_content"
   ]
  },
  {
   "cell_type": "code",
   "execution_count": 157,
   "id": "3b0f3c6c",
   "metadata": {},
   "outputs": [],
   "source": [
    "text_list = ['Peter Dunstan']\n",
    "\n",
    "\n",
    "\n",
    "for name in text_list:\n",
    "    \n",
    "    transcript = text_to_ts(name)\n",
    "\n",
    "    df = pd.DataFrame(transcript,columns = [\"Timestamp\", \"Speaker\", \"Transcript\"])\n",
    "    \n",
    "    df.to_csv('./ingested/'+name+'.tsv',\n",
    "              sep = '\\t'\n",
    "             )"
   ]
  },
  {
   "cell_type": "code",
   "execution_count": null,
   "id": "6e833ba0",
   "metadata": {},
   "outputs": [],
   "source": []
  },
  {
   "cell_type": "code",
   "execution_count": null,
   "id": "2305edb2",
   "metadata": {},
   "outputs": [],
   "source": []
  },
  {
   "cell_type": "markdown",
   "id": "4325289f",
   "metadata": {},
   "source": [
    "Development / exploration commands"
   ]
  },
  {
   "cell_type": "code",
   "execution_count": 122,
   "id": "f867d944-3945-418d-9f37-77fc0337cc63",
   "metadata": {},
   "outputs": [],
   "source": [
    "#doc = fitz.open('./raw/Frank Wilson Transcript Master.pdf')"
   ]
  },
  {
   "cell_type": "code",
   "execution_count": 94,
   "id": "44d599a2",
   "metadata": {},
   "outputs": [],
   "source": [
    "#doc.page_count"
   ]
  },
  {
   "cell_type": "code",
   "execution_count": null,
   "id": "dd789509",
   "metadata": {},
   "outputs": [],
   "source": [
    "#doc.metadata"
   ]
  },
  {
   "cell_type": "code",
   "execution_count": 130,
   "id": "6513e6f6",
   "metadata": {},
   "outputs": [],
   "source": [
    "#page = doc[10]"
   ]
  },
  {
   "cell_type": "code",
   "execution_count": 131,
   "id": "8713e780",
   "metadata": {},
   "outputs": [],
   "source": [
    "#text = page.get_text(\"html\")"
   ]
  },
  {
   "cell_type": "code",
   "execution_count": 138,
   "id": "5c61f0eb",
   "metadata": {},
   "outputs": [],
   "source": [
    "#display(HTML(text))"
   ]
  },
  {
   "cell_type": "code",
   "execution_count": 126,
   "id": "f2b0d9a7",
   "metadata": {},
   "outputs": [],
   "source": [
    "#page_bs = BeautifulSoup(text)"
   ]
  },
  {
   "cell_type": "code",
   "execution_count": 139,
   "id": "d0fa41a1",
   "metadata": {},
   "outputs": [],
   "source": [
    "#fancy_page_to_ts(page)"
   ]
  },
  {
   "cell_type": "code",
   "execution_count": 109,
   "id": "f12a2a52",
   "metadata": {},
   "outputs": [],
   "source": []
  },
  {
   "cell_type": "code",
   "execution_count": 48,
   "id": "74d792f9",
   "metadata": {},
   "outputs": [
    {
     "data": {
      "text/plain": [
       "'transcripts = []\\n\\n# Omit first page as it\\'s copyright material / frontispiece\\nfor page in doc.pages(1):\\n    transcripts.extend(page_to_ts(page))\\n    \\n    df = pd.DataFrame(transcripts,columns = [\"Timestamp\", \"Speaker\", \"Transcript\"])\\n    \\ndf\\n'"
      ]
     },
     "execution_count": 48,
     "metadata": {},
     "output_type": "execute_result"
    }
   ],
   "source": [
    "'''\n",
    "transcripts = []\n",
    "\n",
    "# Omit first page as it's copyright material / frontispiece\n",
    "for page in doc.pages(1):\n",
    "    transcripts.extend(page_to_ts(page))\n",
    "    \n",
    "    df = pd.DataFrame(transcripts,columns = [\"Timestamp\", \"Speaker\", \"Transcript\"])\n",
    "    \n",
    "df\n",
    "'''"
   ]
  },
  {
   "cell_type": "code",
   "execution_count": null,
   "id": "5acbd2dc",
   "metadata": {},
   "outputs": [],
   "source": []
  }
 ],
 "metadata": {
  "kernelspec": {
   "display_name": "Python 3",
   "language": "python",
   "name": "python3"
  },
  "language_info": {
   "codemirror_mode": {
    "name": "ipython",
    "version": 3
   },
   "file_extension": ".py",
   "mimetype": "text/x-python",
   "name": "python",
   "nbconvert_exporter": "python",
   "pygments_lexer": "ipython3",
   "version": "3.8.2"
  }
 },
 "nbformat": 4,
 "nbformat_minor": 5
}
